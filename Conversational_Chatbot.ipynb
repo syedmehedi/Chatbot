{
  "nbformat": 4,
  "nbformat_minor": 0,
  "metadata": {
    "colab": {
      "name": "chatbot.ipynb",
      "provenance": [],
      "collapsed_sections": [],
      "toc_visible": true
    },
    "kernelspec": {
      "name": "python3",
      "display_name": "Python 3"
    }
  },
  "cells": [
    {
      "cell_type": "markdown",
      "metadata": {
        "id": "MGHoy6KpQDfZ",
        "colab_type": "text"
      },
      "source": [
        "#Conversational Chatbot\n",
        "\n",
        "\n",
        "## Syed Mehedi Hasan\n"
      ]
    },
    {
      "cell_type": "markdown",
      "metadata": {
        "id": "f5Fkx7nqdWrY",
        "colab_type": "text"
      },
      "source": [
        ""
      ]
    },
    {
      "cell_type": "markdown",
      "metadata": {
        "id": "xckxs7U9ML4R",
        "colab_type": "text"
      },
      "source": [
        ""
      ]
    },
    {
      "cell_type": "markdown",
      "metadata": {
        "id": "qTf21j_oQIiD",
        "colab_type": "text"
      },
      "source": [
        "## Readme\n",
        "###How to Run:\n",
        "\n",
        "\n",
        "#### 1. To start chatting please goto Menu ->Runtime-> Run all or directly press (ctrl + F9) from keyboard.\n",
        "#### 2. Please click on google link on cell 1.1.2 and provide google log in detail, it will give authentication ID please copy authentication code and paste in input box below the link\n",
        "\n",
        "#### 3. Then please go to cell 3.5.2. Execute program - chatting mode (please type \"xxx\" to Exit from current personality mode and enter 0 to exit chatbot)\n",
        "####All Models, ipython notebook and chatlogs are available in the link below: https://drive.google.com/open?id=1HDThzAsIsDxADWR5XEIV9DxZdDEZUr4n\n",
        "\n"
      ]
    },
    {
      "cell_type": "markdown",
      "metadata": {
        "id": "iXbQohXLKSgO",
        "colab_type": "text"
      },
      "source": [
        "***Visualising the comparison of different results is a good way to justify your decision.***"
      ]
    },
    {
      "cell_type": "markdown",
      "metadata": {
        "id": "34DVNKgqQY21",
        "colab_type": "text"
      },
      "source": [
        "# 1 - Data Preprocessing (Personality chat datasets)"
      ]
    },
    {
      "cell_type": "markdown",
      "metadata": {
        "id": "7cWUxAQrGlq6",
        "colab_type": "text"
      },
      "source": [
        "## 1.1. Download Dataset (Personality chat datasets)"
      ]
    },
    {
      "cell_type": "markdown",
      "metadata": {
        "id": "_jnbsPlUcTTm",
        "colab_type": "text"
      },
      "source": [
        "###1.1.1 Import libraries"
      ]
    },
    {
      "cell_type": "code",
      "metadata": {
        "id": "7GOTCJwg-pt4",
        "colab_type": "code",
        "outputId": "8669d1aa-6c95-4ca7-83d4-cd9f3598537f",
        "colab": {
          "base_uri": "https://localhost:8080/",
          "height": 141
        }
      },
      "source": [
        "#1.1----Load---libraries------\n",
        "import numpy as np\n",
        "import pandas as pd\n",
        "import nltk\n",
        "from nltk.tokenize import word_tokenize, sent_tokenize\n",
        "nltk.download('stopwords')\n",
        "\n",
        "from nltk.corpus import stopwords\n",
        "from gensim.models import Word2Vec\n",
        "\n",
        "nltk.download('punkt')\n",
        "\n",
        "import pprint\n",
        "import re\n",
        "from lxml import etree\n",
        "import nltk\n",
        "\n",
        "\n",
        "from gensim.models import Word2Vec\n",
        "\n",
        "import torch\n",
        "import pickle\n",
        "from gensim import models\n",
        "import datetime\n",
        "\n",
        "import warnings\n",
        "warnings.simplefilter(action='ignore', category=FutureWarning)\n",
        "\n"
      ],
      "execution_count": 0,
      "outputs": [
        {
          "output_type": "stream",
          "text": [
            "[nltk_data] Downloading package stopwords to /root/nltk_data...\n",
            "[nltk_data]   Unzipping corpora/stopwords.zip.\n"
          ],
          "name": "stdout"
        },
        {
          "output_type": "stream",
          "text": [
            "/usr/local/lib/python3.6/dist-packages/smart_open/ssh.py:34: UserWarning: paramiko missing, opening SSH/SCP/SFTP paths will be disabled.  `pip install paramiko` to suppress\n",
            "  warnings.warn('paramiko missing, opening SSH/SCP/SFTP paths will be disabled.  `pip install paramiko` to suppress')\n"
          ],
          "name": "stderr"
        },
        {
          "output_type": "stream",
          "text": [
            "[nltk_data] Downloading package punkt to /root/nltk_data...\n",
            "[nltk_data]   Unzipping tokenizers/punkt.zip.\n"
          ],
          "name": "stdout"
        }
      ]
    },
    {
      "cell_type": "markdown",
      "metadata": {
        "id": "iKsrODh3ccSF",
        "colab_type": "text"
      },
      "source": [
        "###1.1.2 Download Personality chatbot data set"
      ]
    },
    {
      "cell_type": "code",
      "metadata": {
        "id": "U7C4snIcNl22",
        "colab_type": "code",
        "outputId": "0e6c9962-ad02-472e-dfa2-414fbb9c4c1e",
        "colab": {
          "base_uri": "https://localhost:8080/",
          "height": 52
        }
      },
      "source": [
        "# Install PyDrive and import libraries \n",
        "# Code to download file into Colaboratory:\n",
        "!pip install -U -q PyDrive\n",
        "from pydrive.auth import GoogleAuth\n",
        "from pydrive.drive import GoogleDrive\n",
        "from google.colab import auth\n",
        "from oauth2client.client import GoogleCredentials\n",
        "# Authenticate and create the PyDrive client.\n",
        "auth.authenticate_user()\n",
        "gauth = GoogleAuth()\n",
        "gauth.credentials = GoogleCredentials.get_application_default()\n",
        "drive = GoogleDrive(gauth)\n",
        "\n",
        "\n",
        "id = '1T6b7WLUeAchBKnaP10gH2aSOEARJLM6Q'\n",
        "downloaded = drive.CreateFile({'id':id}) \n",
        "downloaded.GetContentFile('qna_chitchat_the_professional.tsv') \n",
        "downloaded = drive.CreateFile({'id':'1Jl-m5Q_SRDF_VfA8QT1lrE-1k2Vc6pYG'})\n",
        "downloaded.GetContentFile('qna_chitchat_the_friend.tsv') \n",
        "downloaded = drive.CreateFile({'id':'1Dlm69VvrxC4Y8NS2abK3B5jKtos8sy2C'})\n",
        "downloaded.GetContentFile('qna_chitchat_the_comic.tsv') \n",
        "\n",
        "df_prof = pd.read_csv('qna_chitchat_the_professional.tsv', sep=\"\\t\")\n",
        "df_fr = pd.read_csv('qna_chitchat_the_friend.tsv', sep=\"\\t\")\n",
        "df_com = pd.read_csv('qna_chitchat_the_comic.tsv', sep=\"\\t\")\n"
      ],
      "execution_count": 0,
      "outputs": [
        {
          "output_type": "stream",
          "text": [
            "\u001b[?25l\r\u001b[K    1% |▎                               | 10kB 21.0MB/s eta 0:00:01\r\u001b[K    2% |▋                               | 20kB 3.3MB/s eta 0:00:01\r\u001b[K    3% |█                               | 30kB 4.8MB/s eta 0:00:01\r\u001b[K    4% |█▎                              | 40kB 3.1MB/s eta 0:00:01\r\u001b[K    5% |█▋                              | 51kB 3.7MB/s eta 0:00:01\r\u001b[K    6% |██                              | 61kB 4.4MB/s eta 0:00:01\r\u001b[K    7% |██▎                             | 71kB 5.0MB/s eta 0:00:01\r\u001b[K    8% |██▋                             | 81kB 5.7MB/s eta 0:00:01\r\u001b[K    9% |███                             | 92kB 6.3MB/s eta 0:00:01\r\u001b[K    10% |███▎                            | 102kB 4.9MB/s eta 0:00:01\r\u001b[K    11% |███▋                            | 112kB 5.0MB/s eta 0:00:01\r\u001b[K    12% |████                            | 122kB 6.8MB/s eta 0:00:01\r\u001b[K    13% |████▎                           | 133kB 6.7MB/s eta 0:00:01\r\u001b[K    14% |████▋                           | 143kB 12.3MB/s eta 0:00:01\r\u001b[K    15% |█████                           | 153kB 12.5MB/s eta 0:00:01\r\u001b[K    16% |█████▎                          | 163kB 12.5MB/s eta 0:00:01\r\u001b[K    17% |█████▋                          | 174kB 12.7MB/s eta 0:00:01\r\u001b[K    18% |██████                          | 184kB 12.8MB/s eta 0:00:01\r\u001b[K    19% |██████▎                         | 194kB 12.8MB/s eta 0:00:01\r\u001b[K    20% |██████▋                         | 204kB 43.7MB/s eta 0:00:01\r\u001b[K    21% |███████                         | 215kB 14.6MB/s eta 0:00:01\r\u001b[K    22% |███████▎                        | 225kB 14.7MB/s eta 0:00:01\r\u001b[K    23% |███████▋                        | 235kB 15.0MB/s eta 0:00:01\r\u001b[K    24% |████████                        | 245kB 14.8MB/s eta 0:00:01\r\u001b[K    25% |████████▎                       | 256kB 14.8MB/s eta 0:00:01\r\u001b[K    26% |████████▋                       | 266kB 14.2MB/s eta 0:00:01\r\u001b[K    27% |█████████                       | 276kB 14.4MB/s eta 0:00:01\r\u001b[K    29% |█████████▎                      | 286kB 14.4MB/s eta 0:00:01\r\u001b[K    30% |█████████▋                      | 296kB 14.3MB/s eta 0:00:01\r\u001b[K    31% |██████████                      | 307kB 15.1MB/s eta 0:00:01\r\u001b[K    32% |██████████▎                     | 317kB 50.9MB/s eta 0:00:01\r\u001b[K    33% |██████████▋                     | 327kB 50.1MB/s eta 0:00:01\r\u001b[K    34% |███████████                     | 337kB 50.6MB/s eta 0:00:01\r\u001b[K    35% |███████████▎                    | 348kB 46.9MB/s eta 0:00:01\r\u001b[K    36% |███████████▋                    | 358kB 47.3MB/s eta 0:00:01\r\u001b[K    37% |████████████                    | 368kB 54.8MB/s eta 0:00:01\r\u001b[K    38% |████████████▎                   | 378kB 54.4MB/s eta 0:00:01\r\u001b[K    39% |████████████▋                   | 389kB 54.7MB/s eta 0:00:01\r\u001b[K    40% |█████████████                   | 399kB 18.5MB/s eta 0:00:01\r\u001b[K    41% |█████████████▎                  | 409kB 18.0MB/s eta 0:00:01\r\u001b[K    42% |█████████████▋                  | 419kB 18.0MB/s eta 0:00:01\r\u001b[K    43% |██████████████                  | 430kB 18.0MB/s eta 0:00:01\r\u001b[K    44% |██████████████▎                 | 440kB 18.1MB/s eta 0:00:01\r\u001b[K    45% |██████████████▋                 | 450kB 18.3MB/s eta 0:00:01\r\u001b[K    46% |███████████████                 | 460kB 18.2MB/s eta 0:00:01\r\u001b[K    47% |███████████████▎                | 471kB 18.3MB/s eta 0:00:01\r\u001b[K    48% |███████████████▋                | 481kB 18.3MB/s eta 0:00:01\r\u001b[K    49% |████████████████                | 491kB 18.3MB/s eta 0:00:01\r\u001b[K    50% |████████████████▎               | 501kB 52.7MB/s eta 0:00:01\r\u001b[K    51% |████████████████▋               | 512kB 53.3MB/s eta 0:00:01\r\u001b[K    52% |█████████████████               | 522kB 53.4MB/s eta 0:00:01\r\u001b[K    53% |█████████████████▎              | 532kB 54.7MB/s eta 0:00:01\r\u001b[K    54% |█████████████████▋              | 542kB 54.6MB/s eta 0:00:01\r\u001b[K    55% |██████████████████              | 552kB 61.3MB/s eta 0:00:01\r\u001b[K    57% |██████████████████▎             | 563kB 62.3MB/s eta 0:00:01\r\u001b[K    58% |██████████████████▋             | 573kB 61.0MB/s eta 0:00:01\r\u001b[K    59% |███████████████████             | 583kB 60.7MB/s eta 0:00:01\r\u001b[K    60% |███████████████████▎            | 593kB 60.0MB/s eta 0:00:01\r\u001b[K    61% |███████████████████▋            | 604kB 59.4MB/s eta 0:00:01\r\u001b[K    62% |████████████████████            | 614kB 63.1MB/s eta 0:00:01\r\u001b[K    63% |████████████████████▎           | 624kB 62.4MB/s eta 0:00:01\r\u001b[K    64% |████████████████████▋           | 634kB 62.5MB/s eta 0:00:01\r\u001b[K    65% |█████████████████████           | 645kB 61.7MB/s eta 0:00:01\r\u001b[K    66% |█████████████████████▎          | 655kB 60.5MB/s eta 0:00:01\r\u001b[K    67% |█████████████████████▋          | 665kB 46.4MB/s eta 0:00:01\r\u001b[K    68% |██████████████████████          | 675kB 24.4MB/s eta 0:00:01\r\u001b[K    69% |██████████████████████▎         | 686kB 24.0MB/s eta 0:00:01\r\u001b[K    70% |██████████████████████▋         | 696kB 23.9MB/s eta 0:00:01\r\u001b[K    71% |███████████████████████         | 706kB 23.8MB/s eta 0:00:01\r\u001b[K    72% |███████████████████████▎        | 716kB 24.1MB/s eta 0:00:01\r\u001b[K    73% |███████████████████████▋        | 727kB 24.1MB/s eta 0:00:01\r\u001b[K    74% |████████████████████████        | 737kB 24.0MB/s eta 0:00:01\r\u001b[K    75% |████████████████████████▎       | 747kB 24.0MB/s eta 0:00:01\r\u001b[K    76% |████████████████████████▋       | 757kB 23.9MB/s eta 0:00:01\r\u001b[K    77% |████████████████████████▉       | 768kB 27.2MB/s eta 0:00:01\r\u001b[K    78% |█████████████████████████▏      | 778kB 58.1MB/s eta 0:00:01\r\u001b[K    79% |█████████████████████████▌      | 788kB 59.8MB/s eta 0:00:01\r\u001b[K    80% |█████████████████████████▉      | 798kB 61.0MB/s eta 0:00:01\r\u001b[K    81% |██████████████████████████▏     | 808kB 61.4MB/s eta 0:00:01\r\u001b[K    82% |██████████████████████████▌     | 819kB 59.8MB/s eta 0:00:01\r\u001b[K    83% |██████████████████████████▉     | 829kB 59.8MB/s eta 0:00:01\r\u001b[K    85% |███████████████████████████▏    | 839kB 59.3MB/s eta 0:00:01\r\u001b[K    86% |███████████████████████████▌    | 849kB 59.9MB/s eta 0:00:01\r\u001b[K    87% |███████████████████████████▉    | 860kB 53.3MB/s eta 0:00:01\r\u001b[K    88% |████████████████████████████▏   | 870kB 52.8MB/s eta 0:00:01\r\u001b[K    89% |████████████████████████████▌   | 880kB 53.8MB/s eta 0:00:01\r\u001b[K    90% |████████████████████████████▉   | 890kB 55.0MB/s eta 0:00:01\r\u001b[K    91% |█████████████████████████████▏  | 901kB 55.0MB/s eta 0:00:01\r\u001b[K    92% |█████████████████████████████▌  | 911kB 56.0MB/s eta 0:00:01\r\u001b[K    93% |█████████████████████████████▉  | 921kB 56.4MB/s eta 0:00:01\r\u001b[K    94% |██████████████████████████████▏ | 931kB 57.0MB/s eta 0:00:01\r\u001b[K    95% |██████████████████████████████▌ | 942kB 57.8MB/s eta 0:00:01\r\u001b[K    96% |██████████████████████████████▉ | 952kB 57.6MB/s eta 0:00:01\r\u001b[K    97% |███████████████████████████████▏| 962kB 66.3MB/s eta 0:00:01\r\u001b[K    98% |███████████████████████████████▌| 972kB 67.5MB/s eta 0:00:01\r\u001b[K    99% |███████████████████████████████▉| 983kB 65.6MB/s eta 0:00:01\r\u001b[K    100% |████████████████████████████████| 993kB 20.9MB/s \n",
            "\u001b[?25h  Building wheel for PyDrive (setup.py) ... \u001b[?25ldone\n",
            "\u001b[?25h"
          ],
          "name": "stdout"
        }
      ]
    },
    {
      "cell_type": "markdown",
      "metadata": {
        "id": "l9gBSgBCQh24",
        "colab_type": "text"
      },
      "source": [
        "## 1.2. Preprocess data (Personality chat datasets)"
      ]
    },
    {
      "cell_type": "markdown",
      "metadata": {
        "id": "8RdKI8E2KRwe",
        "colab_type": "text"
      },
      "source": [
        "####We used tokenization, remove unnecessary numbers and punctuations.Then we are converting all tokens to lowercase so that we can get same vector for each token word whether it is in uppercase, lower case or mixed case.We did not remove stop words as some questions are formed with only NLTK.corpus stop words. We keep three personality type data in three data frame and make the dictionary for three set answers. We added four special char (_E_, _B_, _P_,_U_) to each dictionary as it is very important.We used that to form input_batch, output_batch, and target."
      ]
    },
    {
      "cell_type": "code",
      "metadata": {
        "id": "emyl1lWxGr12",
        "colab_type": "code",
        "outputId": "b0a41e39-986b-4b36-bc6a-742ea7972a42",
        "colab": {
          "base_uri": "https://localhost:8080/",
          "height": 168
        }
      },
      "source": [
        "# Read Personality chat datasets\n",
        "df_prof.head(4)\n"
      ],
      "execution_count": 0,
      "outputs": [
        {
          "output_type": "execute_result",
          "data": {
            "text/html": [
              "<div>\n",
              "<style scoped>\n",
              "    .dataframe tbody tr th:only-of-type {\n",
              "        vertical-align: middle;\n",
              "    }\n",
              "\n",
              "    .dataframe tbody tr th {\n",
              "        vertical-align: top;\n",
              "    }\n",
              "\n",
              "    .dataframe thead th {\n",
              "        text-align: right;\n",
              "    }\n",
              "</style>\n",
              "<table border=\"1\" class=\"dataframe\">\n",
              "  <thead>\n",
              "    <tr style=\"text-align: right;\">\n",
              "      <th></th>\n",
              "      <th>Question</th>\n",
              "      <th>Answer</th>\n",
              "      <th>Source</th>\n",
              "      <th>Metadata</th>\n",
              "    </tr>\n",
              "  </thead>\n",
              "  <tbody>\n",
              "    <tr>\n",
              "      <th>0</th>\n",
              "      <td>What's your age?</td>\n",
              "      <td>Age doesn't really apply to me.</td>\n",
              "      <td>qna_chitchat_the_professional</td>\n",
              "      <td>editorial:chitchat</td>\n",
              "    </tr>\n",
              "    <tr>\n",
              "      <th>1</th>\n",
              "      <td>Are you young?</td>\n",
              "      <td>Age doesn't really apply to me.</td>\n",
              "      <td>qna_chitchat_the_professional</td>\n",
              "      <td>editorial:chitchat</td>\n",
              "    </tr>\n",
              "    <tr>\n",
              "      <th>2</th>\n",
              "      <td>When were you born?</td>\n",
              "      <td>Age doesn't really apply to me.</td>\n",
              "      <td>qna_chitchat_the_professional</td>\n",
              "      <td>editorial:chitchat</td>\n",
              "    </tr>\n",
              "    <tr>\n",
              "      <th>3</th>\n",
              "      <td>What age are you?</td>\n",
              "      <td>Age doesn't really apply to me.</td>\n",
              "      <td>qna_chitchat_the_professional</td>\n",
              "      <td>editorial:chitchat</td>\n",
              "    </tr>\n",
              "  </tbody>\n",
              "</table>\n",
              "</div>"
            ],
            "text/plain": [
              "              Question                           Answer  \\\n",
              "0     What's your age?  Age doesn't really apply to me.   \n",
              "1       Are you young?  Age doesn't really apply to me.   \n",
              "2  When were you born?  Age doesn't really apply to me.   \n",
              "3    What age are you?  Age doesn't really apply to me.   \n",
              "\n",
              "                          Source            Metadata  \n",
              "0  qna_chitchat_the_professional  editorial:chitchat  \n",
              "1  qna_chitchat_the_professional  editorial:chitchat  \n",
              "2  qna_chitchat_the_professional  editorial:chitchat  \n",
              "3  qna_chitchat_the_professional  editorial:chitchat  "
            ]
          },
          "metadata": {
            "tags": []
          },
          "execution_count": 3
        }
      ]
    },
    {
      "cell_type": "code",
      "metadata": {
        "id": "LU7uFc5DcNz4",
        "colab_type": "code",
        "colab": {}
      },
      "source": [
        "#concat all three chat data frame together. we will add all questions from here to our movie line data\n",
        "# to make richer Word2Vec Model\n",
        "df_all=pd.concat([df_prof,df_fr,df_com])\n",
        "\n"
      ],
      "execution_count": 0,
      "outputs": []
    },
    {
      "cell_type": "markdown",
      "metadata": {
        "id": "oDmdl0Xfgoxh",
        "colab_type": "text"
      },
      "source": [
        "### 1.2.1 Tokenisation, stopwords removal, stemming etc"
      ]
    },
    {
      "cell_type": "code",
      "metadata": {
        "id": "DzVJJiclfy3s",
        "colab_type": "code",
        "colab": {}
      },
      "source": [
        "## Functions to pre-process data for Seq2Seq Model---\n",
        "\n",
        "#Maximum number of words in a question for a given Personality\n",
        "global max_input_words_amount\n",
        "#Maximum number of sentences will come as output\n",
        "global max_output_words_amount\n",
        "#Maximum number of unique answers we kept in dictionary\n",
        "global max_dic_len\n",
        "\n",
        "#Take the maximum number of unique answers in any chat data set\n",
        "max_unique_answers = max (len(list(set(df_prof['Answer']))), len(list(set(df_fr['Answer']))), len(list(set(df_com['Answer']))))\n",
        "\n",
        "#we added four specail chars to our unique answer\n",
        "max_dic_len=max_unique_answers + 4\n",
        "\n",
        "# Generate Sequence-Data from Question and answer data\n",
        "def get_seq_data(df):\n",
        "        \n",
        "        seq_data = []\n",
        "        whole_words = []\n",
        "                        \n",
        "        max_input_words_amount=0\n",
        "        max_output_words_amount=1\n",
        "               \n",
        "        question={}\n",
        "        answer={}\n",
        "\n",
        "        #Iterate over all rows of chat data frame\n",
        "        for index, row in df.iterrows():\n",
        "\n",
        "            ###\n",
        "            question[row[0]] = index\n",
        "            answer[row[1]] = index\n",
        "\n",
        "            tmp_qa=[]\n",
        "            tmp_qa.append(row[0])\n",
        "            tmp_qa.append(row[1])\n",
        "            seq_data.append(tmp_qa)\n",
        "           \n",
        "            \n",
        "            # tokenise question\n",
        "            #tokens_q=word_tokenize(row[0])\n",
        "            tokenized_q =word_tokenize(row[0].lower())\n",
        "\n",
        "            # we do not need to tokenise answer (because we implement N to One model)\n",
        "            # make a list with only one element (whole sentence)\n",
        "            #tokenized_a += row[1]\n",
        "            tokenized_a=row[1]\n",
        "\n",
        "            \n",
        "            # answer list (one element) as we keep only answer to dict\n",
        "            whole_words.append(tokenized_a)\n",
        "\n",
        "            # we need to decide the maximum size of input word tokens\n",
        "            max_input_words_amount = max(len(tokenized_q), max_input_words_amount)\n",
        "\n",
        "\n",
        "        # we now have a vacabulary list\n",
        "        unique_words = list(set(whole_words))\n",
        "\n",
        "        # adding special tokens in the vocabulary list    \n",
        "        # _B_: Beginning of Sequence\n",
        "        # _E_: Ending of Sequence\n",
        "        # _P_: Padding of Sequence - for different size input\n",
        "        # _U_: Unknown element of Sequence - for different size input\n",
        "\n",
        "        unique_words.append('_B_')\n",
        "        unique_words.append('_E_')\n",
        "        unique_words.append('_P_')\n",
        "        unique_words.append('_U_')\n",
        "        \n",
        "        #make all persnality answer set same length by adding _U_ + str(i+1), i=1 to length different\n",
        "        if len(unique_words)<max_dic_len:\n",
        "            diff=max_dic_len-len(unique_words)\n",
        "            for i in range(diff):\n",
        "                unique_words.append('_U_' + str(i+1))\n",
        "        \n",
        "        \n",
        "        unique_words.sort()\n",
        "        num_dic = {n: i for i, n in enumerate(unique_words)}\n",
        "        \n",
        "       \n",
        "          \n",
        "        dic_len = len(num_dic)\n",
        "        \n",
        "        return seq_data, num_dic, unique_words,dic_len\n",
        "      \n",
        " # get token index vector of questions and add paddings if the word is shorter than \n",
        " #the maximum number of words\n",
        "def get_vectors_q(sentence):\n",
        "    \n",
        "    # tokenise the sentence\n",
        "    \n",
        "    tokenized_sentence = word_tokenize(sentence.lower())\n",
        "    \n",
        "    #calculate lenth different between number of words in  this question and max_input_words_amount\n",
        "    diff = max_input_words_amount - len(tokenized_sentence)\n",
        "    \n",
        "    # add paddings if the word is shorter than the maximum number of words    \n",
        "    for x in range(diff):\n",
        "        \n",
        "        tokenized_sentence.append(\"_P_\")\n",
        "  \n",
        "   \n",
        "    data = [num_dic[n] for n in tokenized_sentence]\n",
        "           \n",
        "    \n",
        "        \n",
        "    return data\n",
        "\n",
        "# get token index vector of answer\n",
        "def get_vectors_a(sentence, num_dic):    \n",
        "    tokenized_sentence = [sentence]\n",
        "    data = tokens_to_ids(tokenized_sentence, num_dic)\n",
        "    \n",
        "    return data\n",
        "    \n",
        "\n",
        "# convert tokens to index\n",
        "def tokens_to_ids(tokenized_sentence, num_dic):\n",
        "    ids = []\n",
        "\n",
        "    for token in tokenized_sentence:\n",
        "        \n",
        "        if token in num_dic:\n",
        "            ids.append(num_dic[token])\n",
        "        else:\n",
        "            ids.append(num_dic['_U_'])\n",
        "          \n",
        "\n",
        "    return ids\n",
        "  \n",
        "#Get Word2Vec for each word of question(sentence) and join those to an array of vector\n",
        "def get_w2vec(model,sentence):\n",
        "    \n",
        "    # tokenise the sentence and take lower case\n",
        "    \n",
        "    tokenized_sentence = word_tokenize(sentence.lower())\n",
        "      \n",
        "    \n",
        "    diff = max_input_words_amount - len(tokenized_sentence)\n",
        "    \n",
        "    # add paddings if the word is shorter than the maximum number of words    \n",
        "    for x in range(diff):\n",
        "        \n",
        "        tokenized_sentence.append(\"_P_\")\n",
        "        \n",
        "                \n",
        "    data=[] \n",
        "    \n",
        "    #data = [get_vector(model, n) for n in tokenized_sentence]\n",
        "    #data = np.eye(dic_len)[data]\n",
        "    \n",
        "    #get vector for each word of a question from word2vec model\n",
        "    for w in tokenized_sentence:\n",
        "      data.append(get_vector(model, w))\n",
        "    \n",
        "        \n",
        "    return data\n",
        "  \n",
        "#get a vector corresponding to a word from given model\n",
        "def get_vector(model, word):\n",
        "  \n",
        "  \n",
        "  if word in model.wv:\n",
        "    vector = model.wv[word]  \n",
        "  else:\n",
        "    \n",
        "    vector = model.wv['_U_'] \n",
        "  return vector\n",
        "  \n",
        "  \n",
        "  # generate a batch data for training/testing\n",
        "def make_batch_new(seq_data, num_dic, model):\n",
        "    input_batch = []\n",
        "    output_batch = []\n",
        "    target_batch = []\n",
        "    #target=[]\n",
        "    \n",
        "    dic_len=len(num_dic)\n",
        "    \n",
        "    for seq in seq_data:        \n",
        "        # Input for encoder cell, convert question to vector\n",
        "        input_data = get_w2vec(model,seq[0]) #get_vectors_q(seq[0])\n",
        "             \n",
        "        \n",
        "        # Input for decoder cell, Add '_B_' at the beginning of the sequence data\n",
        " \n",
        "        tmp_seq= seq[1]\n",
        "        output_data = [num_dic['_B_']]\n",
        "         \n",
        "        output_data += get_vectors_a(seq[1], num_dic)\n",
        "        \n",
        "        # Output of decoder cell (Actual result), Add '_E_' at the end of the sequence data\n",
        "       \n",
        "        target = [num_dic[seq[1]]]\n",
        "        tmp_target = num_dic['_E_']\n",
        "        target.append(tmp_target)                        \n",
        "        \n",
        "        \n",
        "       \n",
        "        #append word2vec vector for each word of question to input_batch\n",
        "        input_batch.append(input_data)\n",
        "        \n",
        "        # Convert number got for each answer from our dictionary to one-hot encode data\n",
        "        output_batch.append(np.eye(dic_len)[output_data])\n",
        "        \n",
        "        target_batch.append(target)\n",
        "        #s=seq\n",
        "               \n",
        "\n",
        "    return input_batch, output_batch, target_batch\n",
        "\n",
        "#Set  global variables max_input_words_amount and max_output_words_amount\n",
        "def set_max_input_words_amount(seq_data):\n",
        "    \n",
        "    global max_input_words_amount\n",
        "    global max_output_words_amount\n",
        "    \n",
        "    max_input_words_amount=0\n",
        "    max_output_words_amount=1\n",
        "    for row in seq_data:\n",
        "  \n",
        "        tokenized_q =word_tokenize(row[0].lower())\n",
        "            \n",
        "        \n",
        "        # we need to decide the maximum size of input word tokens\n",
        "        max_input_words_amount = max(len(tokenized_q), max_input_words_amount)"
      ],
      "execution_count": 0,
      "outputs": []
    },
    {
      "cell_type": "markdown",
      "metadata": {
        "id": "AjE10QaNk1qc",
        "colab_type": "text"
      },
      "source": [
        "\n"
      ]
    },
    {
      "cell_type": "markdown",
      "metadata": {
        "id": "i2KIG0vChSIt",
        "colab_type": "text"
      },
      "source": [
        ""
      ]
    },
    {
      "cell_type": "markdown",
      "metadata": {
        "id": "eNAo0xx5m_PN",
        "colab_type": "text"
      },
      "source": [
        "### 1.2.2 Pickle Dictionary"
      ]
    },
    {
      "cell_type": "code",
      "metadata": {
        "id": "wFEYc9az1Gz1",
        "colab_type": "code",
        "outputId": "04716843-6c88-4f76-8569-7187e8049e05",
        "colab": {
          "base_uri": "https://localhost:8080/",
          "height": 54
        }
      },
      "source": [
        "# Comment this code as we used the function below to make those data: (seq_data, num_dic, unique_words)\n",
        "#and upload those data as pickled file in google drive and used those file to get data for model\n",
        "\n",
        "'''\n",
        "# make and upload these (seq_data, num_dic, unique_words) to google drive using google drive mount and torch library\n",
        "def upload_pickle_data(df, personality_extention):\n",
        "  \n",
        "    seq_data, num_dic, unique_words,dic_len =get_seq_data(df)\n",
        "\n",
        "    drive.mount('/content/gdrive')\n",
        "\n",
        "    #Save model to google drive. Comment this part as already uploaded\n",
        "    dic_save_name = 'num_dic_' + str(personality_extention)\n",
        "\n",
        "    path = F\"/content/gdrive/My Drive/Comp5046_Assignment1/Model/Pickle_data/{dic_save_name}\" \n",
        "    torch.save(num_dic, path)\n",
        "\n",
        "    seq_data_save_name='seq_data_' + str(personality_extention)\n",
        "    path = F\"/content/gdrive/My Drive/Comp5046_Assignment1/Model/Pickle_data/{seq_data_save_name}\" \n",
        "    torch.save(seq_data, path)\n",
        "\n",
        "    unique_words_save_name='unique_words_' + str(personality_extention)\n",
        "    unique_words_path = F\"/content/gdrive/My Drive/Comp5046_Assignment1/Model/Pickle_data/{unique_words_save_name}\" \n",
        "    torch.save(unique_words, unique_words_path)\n",
        "    \n",
        "    '''\n"
      ],
      "execution_count": 0,
      "outputs": [
        {
          "output_type": "execute_result",
          "data": {
            "text/plain": [
              "'\\n# make and upload these (seq_data, num_dic, unique_words) to google drive using google drive mount and torch library\\ndef upload_pickle_data(df, personality_extention):\\n  \\n    seq_data, num_dic, unique_words,dic_len =get_seq_data(df)\\n\\n    drive.mount(\\'/content/gdrive\\')\\n\\n    #Save model to google drive. Comment this part as already uploaded\\n    dic_save_name = \\'num_dic_\\' + str(personality_extention)\\n\\n    path = F\"/content/gdrive/My Drive/Comp5046_Assignment1/Model/Pickle_data/{dic_save_name}\" \\n    torch.save(num_dic, path)\\n\\n    seq_data_save_name=\\'seq_data_\\' + str(personality_extention)\\n    path = F\"/content/gdrive/My Drive/Comp5046_Assignment1/Model/Pickle_data/{seq_data_save_name}\" \\n    torch.save(seq_data, path)\\n\\n    unique_words_save_name=\\'unique_words_\\' + str(personality_extention)\\n    unique_words_path = F\"/content/gdrive/My Drive/Comp5046_Assignment1/Model/Pickle_data/{unique_words_save_name}\" \\n    torch.save(unique_words, unique_words_path)\\n    \\n    '"
            ]
          },
          "metadata": {
            "tags": []
          },
          "execution_count": 6
        }
      ]
    },
    {
      "cell_type": "markdown",
      "metadata": {
        "id": "9dcuOryE2GWm",
        "colab_type": "text"
      },
      "source": [
        "#### Upload Pickled data for num_dic, Seq_data and unique_words to google drive"
      ]
    },
    {
      "cell_type": "code",
      "metadata": {
        "id": "6rhk4oAn545_",
        "colab_type": "code",
        "colab": {}
      },
      "source": [
        "#comment this code as we already uploaded those data to google drive and will train model \n",
        "#after downloading that\n",
        "\n",
        "#upload_pickle_data(df_prof, 'prof')\n",
        "#upload_pickle_data(df_com, 'com')\n",
        "#upload_pickle_data(df_fr, 'fr')"
      ],
      "execution_count": 0,
      "outputs": []
    },
    {
      "cell_type": "markdown",
      "metadata": {
        "id": "2ARpTyQzpVoF",
        "colab_type": "text"
      },
      "source": [
        "### Load Dictionary and Seq_Data from google drive"
      ]
    },
    {
      "cell_type": "code",
      "metadata": {
        "id": "WqoFv0-Iozd9",
        "colab_type": "code",
        "colab": {}
      },
      "source": [
        "#1.2.2.1 --- Custom functions-- Load dictionary and list data for Seq-Data from Google drive--\n",
        "\n",
        "#load pickled data from google drive (num_dict, seq-data, ma) using google py drive and torch library\n",
        "\n",
        "def load_pickle_data(personality_type):\n",
        "      \n",
        "      #if profesional personality then download corresponding pickle data from google drive\n",
        "      if personality_type==1:\n",
        "        extension='prof'\n",
        "        unique_words_id='1-DXWJnYIw3IvdoM753kaFuV5B1_k29-c'\n",
        "        seq_data_id='1-DVdb6CAbvkg0LbCbJVempQOZqSeHo3Q'\n",
        "        num_dic_id='1-B5GfNBOdkLOru-AOziWgkK47diurGY4'\n",
        "        \n",
        "      #if comic personality then download corresponding pickle data from google drive\n",
        "      elif personality_type==2:\n",
        "        extension='com'\n",
        "        unique_words_id='1-M0qD6e_FmmnM1w7SAgkN07Zz5_q60Wo'\n",
        "        seq_data_id='1-KgsKQz3S9va2OY3QYi-tu0EygIAh8zU'\n",
        "        num_dic_id='1-KDAiqFcn_ZHkGfOJKq8eyijoay6P7zu'\n",
        "      \n",
        "      #if friend personality then download corresponding pickle data from google drive\n",
        "      elif personality_type==3:\n",
        "        extension='fr'\n",
        "        unique_words_id='1-Q6I46Glmmdsg6CgrLR8YjgXRsNvUkrp'\n",
        "        seq_data_id='1-O8QsFwaEgbVba25DhbaDo5ch4LG8wvJ'\n",
        "        num_dic_id='1-R_A0WLphGMmTpgXRKzlp3E_OBG2eiZq'\n",
        "\n",
        "             \n",
        "      file_unique_words = drive.CreateFile({'id':unique_words_id})\n",
        "  \n",
        "      file_unique_words.GetContentFile('unique_words_prof')\n",
        "      unique_words=torch.load('unique_words_prof')\n",
        "      \n",
        "      \n",
        "      \n",
        "      file_seq_data = drive.CreateFile({'id':seq_data_id})\n",
        "  \n",
        "      file_seq_data.GetContentFile('seq_data_prof')\n",
        "      seq_data=torch.load('seq_data_prof')\n",
        "      \n",
        "      \n",
        "            \n",
        "      file_num_dic = drive.CreateFile({'id':num_dic_id})\n",
        "  \n",
        "      file_num_dic.GetContentFile('num_dic_prof')\n",
        "      num_dic=torch.load('num_dic_prof')\n",
        "      \n",
        "      #Set maximum number of words in any single question of this personality chat.\n",
        "      set_max_input_words_amount(seq_data)\n",
        "      return seq_data, num_dic, unique_words, len(num_dic)\n",
        "\n",
        "\n"
      ],
      "execution_count": 0,
      "outputs": []
    },
    {
      "cell_type": "code",
      "metadata": {
        "id": "BzVJJxaisApE",
        "colab_type": "code",
        "colab": {}
      },
      "source": [
        "#Load seq_data, num_dic for professional type chat as default type from pickled file in google drive\n",
        "seq_data, num_dic, unique_words,dic_len =load_pickle_data(1)\n"
      ],
      "execution_count": 0,
      "outputs": []
    },
    {
      "cell_type": "markdown",
      "metadata": {
        "id": "LIu_lkJwQ55g",
        "colab_type": "text"
      },
      "source": [
        "# 2 - Model Implementation"
      ]
    },
    {
      "cell_type": "markdown",
      "metadata": {
        "id": "07KkkxB8uXL6",
        "colab_type": "text"
      },
      "source": [
        ""
      ]
    },
    {
      "cell_type": "markdown",
      "metadata": {
        "id": "daDvAftceIvr",
        "colab_type": "text"
      },
      "source": [
        "## 2.1. Word Embeddings"
      ]
    },
    {
      "cell_type": "markdown",
      "metadata": {
        "id": "lbzm-NWBTmM-",
        "colab_type": "text"
      },
      "source": [
        "#####We used Word2Vec with CBOW\n",
        "#### We used size of vector size as length of dict_len i.e total number of unique answers. It is very important otherwise our shapes of our input-batch and output-batch  will be different, that will give trouble to Neural Network.We here keep dic_len same for all personality to use NN in same format.\n",
        "\n"
      ]
    },
    {
      "cell_type": "code",
      "metadata": {
        "id": "3cM4rlYkHefJ",
        "colab_type": "code",
        "colab": {}
      },
      "source": [
        "# Please comment your code\n",
        "#Generate a cleaned data for Word2Vec \n",
        "\n",
        "def get_cleaned_data(df):\n",
        "  \n",
        "   \n",
        "    words=[]\n",
        "    clean_words=[]\n",
        "    \n",
        "    for index, row in df.iterrows():\n",
        "      \n",
        "            sents_lst=[]\n",
        "            sent1=row[0]\n",
        "           \n",
        "            sents_lst.append(sent1)\n",
        "                        \n",
        "            for sent in sents_lst:\n",
        "                  #apply regular expresion to whole text to remove number and punctualtion\n",
        "                  sents1 = re.sub(r\"[^a-z0-9]+\", \" \", sent.lower())\n",
        "                  #tokenize as\n",
        "                  sent_text=sent_tokenize(sents1)\n",
        "\n",
        "                  normalized_text = []\n",
        "\n",
        "                  for string in sent_text:\n",
        "                      #apply regular expresiont to each sentence again\n",
        "                      tokens = re.sub(r\"[^a-z0-9]+\", \" \", string.lower())\n",
        "                      normalized_text.append(tokens)\n",
        "\n",
        "                      # Tokenising each sentence to process individual word\n",
        "                      sentences=[]\n",
        "                      sentences=[word_tokenize(sentence) for sentence in normalized_text]\n",
        "                      \n",
        "                      #remove stop words using NLTK stop word dictionary for English Language\n",
        "                      sentences=remove_stop_words(sentences)\n",
        "                      clean_words.append(sentences)\n",
        "           \n",
        "      \n",
        "    #Flattend the list, reduce to one dimension lower\n",
        "    flattened = [val for sublist in clean_words for val in sublist]\n",
        "    \n",
        "    clean_words=flattened\n",
        "    \n",
        "    sents=[]\n",
        "    sents.append('_B_')\n",
        "    sents.append('_E_')\n",
        "    sents.append('_P_')\n",
        "    sents.append('_U_')\n",
        "    clean_words.append(sents)\n",
        "    return clean_words\n",
        "\n",
        "# Function for Removing Stop Words using NLTK stop word dictionary for English language\n",
        "\n",
        "def remove_stop_words(all_words):\n",
        "  \n",
        "    all_words_new=[]\n",
        "    for i in range(len(all_words)): \n",
        "        \n",
        "        sent_words=all_words[i]\n",
        "        sent_words_new=[]\n",
        "        for word in sent_words:\n",
        "            if word not in stopwords.words('english'):\n",
        "                sent_words_new.append(word)\n",
        "        all_words_new.append(sent_words_new)\n",
        "        \n",
        "    return all_words_new\n",
        "  \n",
        "\n",
        "#Generate a a single of Word2Vec Model\n",
        "def generate_word2vec_model(df):\n",
        " \n",
        "    #Get cleaned and processed data\n",
        "    lst_words=  get_cleaned_data(df)\n",
        "  \n",
        "    tmp_model=Word2Vec(sentences=lst_words, size=max_dic_len, window=5, min_count=1, workers=4, sg=0)\n",
        "    tmp_model.train(lst_words, total_examples=len(lst_words), epochs=10)\n",
        "    \n",
        "    \n",
        "    return tmp_model\n",
        "\n",
        "\n",
        "#get a vector corresponding to a word from given model\n",
        "def get_vector(model, word):\n",
        "  \n",
        "  \n",
        "  if word in model.wv:\n",
        "    vector = model.wv[word]  \n",
        "  else:\n",
        "    \n",
        "    vector = model.wv['_U_']\n",
        "    \n",
        "  return vector\n"
      ],
      "execution_count": 0,
      "outputs": []
    },
    {
      "cell_type": "code",
      "metadata": {
        "id": "ny9an-55YE_J",
        "colab_type": "code",
        "colab": {}
      },
      "source": [
        ""
      ],
      "execution_count": 0,
      "outputs": []
    },
    {
      "cell_type": "markdown",
      "metadata": {
        "id": "it6I1_K7HTub",
        "colab_type": "text"
      },
      "source": [
        "### 2.1.1. Download Dataset for Word Embeddings\n",
        "\n"
      ]
    },
    {
      "cell_type": "markdown",
      "metadata": {
        "id": "4Op66omXKVHa",
        "colab_type": "text"
      },
      "source": [
        "#### To build a rich Word2Vec model we chose to use Corneille Movie data. The idea behind that is if we train our Word2Vec on large amounts of natural language data, we should be able to get  vector representations for each word that capture the semantic similarity between words. So, we can a get much reliable vector corresponding to each word of user question. We also added all questions from Microsoft chat data to get richer Word2Vec model. So, our word2vec mdel is richer and specially this microsoft chat data, they will be able to give more acurate vector."
      ]
    },
    {
      "cell_type": "code",
      "metadata": {
        "id": "XrI-q0N4AgWH",
        "colab_type": "code",
        "outputId": "a6f08d72-89ec-426f-9443-084ae3470c79",
        "colab": {
          "base_uri": "https://localhost:8080/",
          "height": 138
        }
      },
      "source": [
        "#Read movie_lines,txt file and clean and process data, store in pandas data frame\n",
        "\n",
        "\n",
        "file_movie = drive.CreateFile({'id':'1ZvYX0VnPqd9nU2oJ9x6BwsqvGnXpQjgG'})\n",
        "file_movie.GetContentFile('movie_lines.txt') \n",
        "\n",
        "with open(file_movie['title'],encoding='utf-8', errors='ignore') as f: \n",
        "    lines = f.readlines() \n",
        "\n",
        "sents=[]\n",
        "for line in lines:\n",
        "        words = line.split('+++$+++')\n",
        "        str1=words[4]\n",
        "        i=str1.index('\\n')\n",
        "        str2=str1[:i]\n",
        "        sents.append(str2)\n",
        "\n",
        "# adding special tokens in the vocabulary list    \n",
        "# _B_: Beginning of Sequence\n",
        "# _E_: Ending of Sequence\n",
        "# _P_: Padding of Sequence - for different size input\n",
        "# _U_: Unknown element of Sequence - for different size input\n",
        "\n",
        "sents.append('_B_')\n",
        "sents.append('_E_')\n",
        "sents.append('_P_')\n",
        "sents.append('_U_')\n",
        "\n",
        "df_movie=pd.DataFrame(sents, columns=['Question'])\n",
        "df_movie.head(3)\n"
      ],
      "execution_count": 0,
      "outputs": [
        {
          "output_type": "execute_result",
          "data": {
            "text/html": [
              "<div>\n",
              "<style scoped>\n",
              "    .dataframe tbody tr th:only-of-type {\n",
              "        vertical-align: middle;\n",
              "    }\n",
              "\n",
              "    .dataframe tbody tr th {\n",
              "        vertical-align: top;\n",
              "    }\n",
              "\n",
              "    .dataframe thead th {\n",
              "        text-align: right;\n",
              "    }\n",
              "</style>\n",
              "<table border=\"1\" class=\"dataframe\">\n",
              "  <thead>\n",
              "    <tr style=\"text-align: right;\">\n",
              "      <th></th>\n",
              "      <th>Question</th>\n",
              "    </tr>\n",
              "  </thead>\n",
              "  <tbody>\n",
              "    <tr>\n",
              "      <th>0</th>\n",
              "      <td>They do not!</td>\n",
              "    </tr>\n",
              "    <tr>\n",
              "      <th>1</th>\n",
              "      <td>They do to!</td>\n",
              "    </tr>\n",
              "    <tr>\n",
              "      <th>2</th>\n",
              "      <td>I hope so.</td>\n",
              "    </tr>\n",
              "  </tbody>\n",
              "</table>\n",
              "</div>"
            ],
            "text/plain": [
              "        Question\n",
              "0   They do not!\n",
              "1    They do to!\n",
              "2     I hope so."
            ]
          },
          "metadata": {
            "tags": []
          },
          "execution_count": 11
        }
      ]
    },
    {
      "cell_type": "markdown",
      "metadata": {
        "id": "GXgFpxIgl-_G",
        "colab_type": "text"
      },
      "source": [
        "### 2.1.2. Data Preprocessing for Word Embeddings"
      ]
    },
    {
      "cell_type": "markdown",
      "metadata": {
        "id": "qJrVHGYSmYMg",
        "colab_type": "text"
      },
      "source": [
        "####We used tokenization, remove unnecessary numbers and punctuations.Then we are converting all tokens to lowercase that we can get same vector for each token word whether it is uppercase, lower case or mixed case.Finally we removed stops using NLTK stopwords dictionary. \n",
        "We added the following chars to our word2vec model\n",
        "._B_: Beginning of Sequence\n",
        " _E_: Ending of Sequence\n",
        " _P_: Padding of Sequence - for different size input\n",
        " _U_: Unknown element of Sequence - \n",
        " The reason is we added those with our input-batch and output batch  when we send user question to model in chat mode\n",
        "\n"
      ]
    },
    {
      "cell_type": "code",
      "metadata": {
        "id": "3LByzHLiNinu",
        "colab_type": "code",
        "outputId": "efdb2516-6a19-42c1-922c-a56f74c1f022",
        "colab": {
          "base_uri": "https://localhost:8080/",
          "height": 54
        }
      },
      "source": [
        "# Add all Questions of all personality from Microsoft chat data to movie data frame\n",
        "#We comment this as we already build Word Embedding Model and uploaded to google drive and\n",
        "#Use that model after downloading that\n",
        "\n",
        "'''\n",
        "df_tmp=df_movie\n",
        "\n",
        "for i, row in df_all.iterrows():\n",
        "    df_tmp = df_tmp.append([{'Question':row[0]}], ignore_index=True)\n",
        "\n",
        "df_movie=df_tmp\n",
        "\n",
        "'''"
      ],
      "execution_count": 0,
      "outputs": [
        {
          "output_type": "execute_result",
          "data": {
            "text/plain": [
              "\"\\ndf_tmp=df_movie\\n\\nfor i, row in df_all.iterrows():\\n    df_tmp = df_tmp.append([{'Question':row[0]}], ignore_index=True)\\n\\ndf_movie=df_tmp\\n\\n\""
            ]
          },
          "metadata": {
            "tags": []
          },
          "execution_count": 12
        }
      ]
    },
    {
      "cell_type": "markdown",
      "metadata": {
        "id": "8NPVXzX2nxFw",
        "colab_type": "text"
      },
      "source": [
        "\n"
      ]
    },
    {
      "cell_type": "markdown",
      "metadata": {
        "id": "qhAgWf_AmbZ8",
        "colab_type": "text"
      },
      "source": [
        "### 2.1.3. Build and Train Word Embeddings Model"
      ]
    },
    {
      "cell_type": "markdown",
      "metadata": {
        "id": "AJ8rU7JbiBVS",
        "colab_type": "text"
      },
      "source": [
        "#### We have used here Gensim library function to build and train model. Only few parameters we set here that we specially need for our model here, rest we used gensim's default hyperparameter. We put min_count=1 otherwise we will not be able to get special characrers we added with word list.We used window size= 5 as a standard window size.we put sg=0 as we used cbow. We used size of vector size as length of dict_len i.e total number of unique answers(102 here). It is very important otherwise our shapes of our input-batch and output-batch  will be different, that will give trouble to Neural Network.We here keep dic_len same for all personality to use NN in same format by adding special chars if it need"
      ]
    },
    {
      "cell_type": "code",
      "metadata": {
        "id": "TVPuwWgvNjOU",
        "colab_type": "code",
        "colab": {}
      },
      "source": [
        "# Generate WordeVec model from movie data and train the model using Gensim. Long file will take 10-15 minutes..\n",
        "#Commented as downloading word2vec model from my Google drive\n",
        "\n",
        "#model_movie=generate_word2vec_model(df_movie)"
      ],
      "execution_count": 0,
      "outputs": []
    },
    {
      "cell_type": "markdown",
      "metadata": {
        "id": "fRzrcTWYBR91",
        "colab_type": "text"
      },
      "source": [
        "### Training loss Word2Vec"
      ]
    },
    {
      "cell_type": "code",
      "metadata": {
        "id": "tLFFmVvNIVnd",
        "colab_type": "code",
        "outputId": "3c539440-682d-4384-c66d-940123f01220",
        "colab": {
          "base_uri": "https://localhost:8080/",
          "height": 54
        }
      },
      "source": [
        "## We comment this code as it takes long time and we only use that   \n",
        "## to show how loss decrease  with decrease of learning rate(i.e to determine best Learning Rate).\n",
        "## although we checked that default hyperparameter used in gensim is good enough, so we kept that.\n",
        "'''\n",
        "df=df_movie\n",
        "lst_words=  get_cleaned_data(df)\n",
        "\n",
        "word2vec_params = {\n",
        "   'sg': 0,  # 0 ： CBOW； 1 : skip-gram\n",
        "   \"size\": 102,\n",
        "   \"alpha\": 0.5,\n",
        "   \"min_alpha\": 0.001,\n",
        "   'window':10,\n",
        "   'min_count': 1,\n",
        "   'seed': 1,\n",
        "   \"workers\": 4,\n",
        "   \"negative\": 0,\n",
        "   \"hs\": 1,  # 0: negative sampling, 1:hierarchical  softmax\n",
        "   'compute_loss': True,\n",
        "   'iter': 10,\n",
        "   'cbow_mean':1,\n",
        "}\n",
        "\n",
        "model = Word2Vec(**word2vec_params)\n",
        "model.build_vocab(sentences=lst_words)\n",
        "losses = []\n",
        "learning_rate = 0.5\n",
        "step_size = (0.5 - 0.001) / 10\n",
        "\n",
        "for i in range(10):\n",
        "    trained_word_count, raw_word_count = model.train(sentences=lst_words, compute_loss=True,\n",
        "                                                     start_alpha=learning_rate,\n",
        "                                                     end_alpha=learning_rate,\n",
        "                                                     total_examples=model.corpus_count,\n",
        "                                                     epochs=1)\n",
        "    loss = model.get_latest_training_loss()\n",
        "    losses.append(loss)\n",
        "    print(i, loss, learning_rate)\n",
        "    learning_rate -= step_size\n",
        "    \n",
        "'''"
      ],
      "execution_count": 0,
      "outputs": [
        {
          "output_type": "execute_result",
          "data": {
            "text/plain": [
              "'\\ndf=df_movie\\nlst_words=  get_cleaned_data(df)\\n\\nword2vec_params = {\\n   \\'sg\\': 0,  # 0 ： CBOW； 1 : skip-gram\\n   \"size\": 102,\\n   \"alpha\": 0.5,\\n   \"min_alpha\": 0.001,\\n   \\'window\\':10,\\n   \\'min_count\\': 1,\\n   \\'seed\\': 1,\\n   \"workers\": 4,\\n   \"negative\": 0,\\n   \"hs\": 1,  # 0: negative sampling, 1:hierarchical  softmax\\n   \\'compute_loss\\': True,\\n   \\'iter\\': 10,\\n   \\'cbow_mean\\':1,\\n}\\n\\nmodel = Word2Vec(**word2vec_params)\\nmodel.build_vocab(sentences=lst_words)\\nlosses = []\\nlearning_rate = 0.5\\nstep_size = (0.5 - 0.001) / 10\\n\\nfor i in range(10):\\n    trained_word_count, raw_word_count = model.train(sentences=lst_words, compute_loss=True,\\n                                                     start_alpha=learning_rate,\\n                                                     end_alpha=learning_rate,\\n                                                     total_examples=model.corpus_count,\\n                                                     epochs=1)\\n    loss = model.get_latest_training_loss()\\n    losses.append(loss)\\n    print(i, loss, learning_rate)\\n    learning_rate -= step_size\\n    \\n'"
            ]
          },
          "metadata": {
            "tags": []
          },
          "execution_count": 14
        }
      ]
    },
    {
      "cell_type": "markdown",
      "metadata": {
        "id": "P3W6gmdzbmUF",
        "colab_type": "text"
      },
      "source": [
        "#### Show justfication of taking very small Learning rate during training Word2Vec Model"
      ]
    },
    {
      "cell_type": "code",
      "metadata": {
        "id": "stFma-13bXYP",
        "colab_type": "code",
        "outputId": "23eb7da3-9848-4529-92eb-feb53de36bf4",
        "colab": {
          "base_uri": "https://localhost:8080/",
          "height": 295
        }
      },
      "source": [
        "import matplotlib.pyplot as plt\n",
        "W2V_LR=np.array([[0.5,0.45,0.40,0.35,0.30,0.25,0.20,0.15,0.10,0.05],[187598.54,131910.65,133637.01,120588.58,128964.39, 120045.54,124809.89,125126.57,121136.02,125049.44]])\n",
        "\n",
        "plt.plot(W2V_LR[0],W2V_LR[1])\n",
        "plt.xlabel('Learning Rate')\n",
        "plt.ylabel('Cost')\n",
        "plt.title('Cost vs Learning Rate during training word embedding model')\n",
        "plt.show()"
      ],
      "execution_count": 0,
      "outputs": [
        {
          "output_type": "display_data",
          "data": {
            "image/png": "[encoded data removed]",
            "text/plain": [
              "<Figure size 432x288 with 1 Axes>"
            ]
          },
          "metadata": {
            "tags": []
          }
        }
      ]
    },
    {
      "cell_type": "markdown",
      "metadata": {
        "id": "LNys5HOdISK-",
        "colab_type": "text"
      },
      "source": [
        "### 2.1.4. Train Word Embeddings Model"
      ]
    },
    {
      "cell_type": "code",
      "metadata": {
        "id": "Ae8i7Z2kIef-",
        "colab_type": "code",
        "colab": {}
      },
      "source": [
        "# Generate WordeVec model from movie data and train the model using Gensim. Long file will take 10-15 minutes.\n",
        "#Commented as downloading word2vec model from my Google drive. please uncomment it if you want to run\n",
        "\n",
        "#model_movie=generate_word2vec_model(df_movie)\n",
        "\n",
        "\n"
      ],
      "execution_count": 0,
      "outputs": []
    },
    {
      "cell_type": "markdown",
      "metadata": {
        "id": "uMCv3YI1IfUo",
        "colab_type": "text"
      },
      "source": [
        "### 2.1.5. Save Word Embeddings Model"
      ]
    },
    {
      "cell_type": "code",
      "metadata": {
        "id": "3OwicNPkIqd1",
        "colab_type": "code",
        "colab": {}
      },
      "source": [
        "# Save the Word2Vec Model we comment it as we already uploaded using google drive mount.\n",
        "\n",
        "#from google.colab import drive\n",
        "#drive.mount('/content/gdrive')\n",
        "\n",
        "\n",
        "#Save model to google drive. Comment this part as already uploaded\n",
        "#model_save_name = 'model_Embedding.pt'\n",
        "#path = F\"/content/gdrive/My Drive/Comp5046_Assignment1/Model/{model_save_name}\" \n",
        "#torch.save(model_movie, path)"
      ],
      "execution_count": 0,
      "outputs": []
    },
    {
      "cell_type": "markdown",
      "metadata": {
        "id": "Yn16xrDrIs8B",
        "colab_type": "text"
      },
      "source": [
        "### 2.1.6. Load Word Embeddings Model"
      ]
    },
    {
      "cell_type": "code",
      "metadata": {
        "id": "-IebpYFsIvgh",
        "colab_type": "code",
        "colab": {}
      },
      "source": [
        "#Function-- Load Word2Vec_model-- from google drive using Pydrive\n",
        "\n",
        "def load_Word2Vec_model():\n",
        "    \n",
        "    #Create file using google file Id of our Word Embedding Model (model_Embedding.pt)\n",
        "    downloaded = drive.CreateFile({'id':'1-6gR2fmUJqFXtASJULlhPz2rzMRnFCce'})\n",
        "  \n",
        "    downloaded.GetContentFile('model_Embedding.pt')\n",
        "    model_movie_downloaded=torch.load('model_Embedding.pt')\n",
        "       \n",
        "\n",
        "    return model_movie_downloaded\n",
        "\n",
        "\n",
        "\n"
      ],
      "execution_count": 0,
      "outputs": []
    },
    {
      "cell_type": "markdown",
      "metadata": {
        "id": "tlCeWT8eeLnd",
        "colab_type": "text"
      },
      "source": [
        "## 2.2. Seq2Seq model"
      ]
    },
    {
      "cell_type": "markdown",
      "metadata": {
        "id": "fwA-NN3EJ4Ig",
        "colab_type": "text"
      },
      "source": [
        "### 2.2.1. Apply/Import Word Embedding Model"
      ]
    },
    {
      "cell_type": "markdown",
      "metadata": {
        "id": "UAMJrxx-iOVn",
        "colab_type": "text"
      },
      "source": [
        "*You are required to describe how hyperparameters were decided with justification of your decision.*"
      ]
    },
    {
      "cell_type": "code",
      "metadata": {
        "id": "g7PKX1gIePA2",
        "colab_type": "code",
        "colab": {}
      },
      "source": [
        "# Load word2Vec model from google drive\n",
        "model_movie=load_Word2Vec_model()\n"
      ],
      "execution_count": 0,
      "outputs": []
    },
    {
      "cell_type": "markdown",
      "metadata": {
        "id": "YDpM1ECmM_6w",
        "colab_type": "text"
      },
      "source": [
        ""
      ]
    },
    {
      "cell_type": "markdown",
      "metadata": {
        "id": "DpYCL17JKZxl",
        "colab_type": "text"
      },
      "source": [
        "### 2.2.2. Build Seq2Seq Model"
      ]
    },
    {
      "cell_type": "markdown",
      "metadata": {
        "id": "R204UIyDKhZ4",
        "colab_type": "text"
      },
      "source": [
        "##### We used several hyperparameter 1. learning_rate we keep it small to converge it to global minimum. 2. n_hidden: is the number of hidden layer in NN. we keep it high enough to get better accuracy.3. n_class and n_input : We had to keep it total number of unique answers in our specific data (max_dic_len)"
      ]
    },
    {
      "cell_type": "code",
      "metadata": {
        "id": "EhRrg9vwl0Zg",
        "colab_type": "code",
        "colab": {}
      },
      "source": [
        "#Load seq_data, num_dic.. from pickled file in google drive default we chose 1=professional personality\n",
        "seq_data, num_dic, unique_words,dic_len =load_pickle_data(1)\n",
        "\n"
      ],
      "execution_count": 0,
      "outputs": []
    },
    {
      "cell_type": "code",
      "metadata": {
        "id": "13eCtR_SLUG6",
        "colab_type": "code",
        "outputId": "4d60611a-e093-4279-93e7-2e412ccf40e8",
        "colab": {
          "base_uri": "https://localhost:8080/",
          "height": 296
        }
      },
      "source": [
        "  #2.2.2 Initialise Seq2Seq Model using Tensorflow------\n",
        "  \n",
        "  import tensorflow as tf\n",
        "  \n",
        "  ### Setting Hyperparameters\n",
        "\n",
        "  ### Neural Network Model\n",
        "  tf.reset_default_graph()\n",
        "\n",
        "  learning_rate = 0.002\n",
        "  n_hidden = 128\n",
        "\n",
        "  n_class = dic_len\n",
        "  n_input = dic_len\n",
        "  \n",
        "\n",
        "  # encoder/decoder shape = [batch size, time steps, input size]\n",
        "  enc_input = tf.placeholder(tf.float32, [None, None, n_input])\n",
        "  dec_input = tf.placeholder(tf.float32, [None, None, n_input])\n",
        "\n",
        "  # target shape = [batch size, time steps]\n",
        "  targets = tf.placeholder(tf.int64, [None, None])\n",
        "\n",
        "\n",
        "  # Encoder Cell\n",
        "  with tf.variable_scope('encode'):\n",
        "      enc_cell = tf.nn.rnn_cell.BasicRNNCell(n_hidden)\n",
        "      enc_cell = tf.nn.rnn_cell.DropoutWrapper(enc_cell, output_keep_prob=0.5)\n",
        "\n",
        "      outputs, enc_states = tf.nn.dynamic_rnn(enc_cell, enc_input,\n",
        "                                              dtype=tf.float32)\n",
        "  # Decoder Cell\n",
        "  with tf.variable_scope('decode'):\n",
        "      dec_cell = tf.nn.rnn_cell.BasicRNNCell(n_hidden)\n",
        "      dec_cell = tf.nn.rnn_cell.DropoutWrapper(dec_cell, output_keep_prob=0.5)\n",
        "\n",
        "      # [IMPORTANT] Setting enc_states as inital_state of decoder cell\n",
        "      outputs, dec_states = tf.nn.dynamic_rnn(dec_cell, dec_input,\n",
        "                                              initial_state=enc_states,\n",
        "                                           dtype=tf.float32)\n",
        "\n",
        "\n",
        "\n",
        "      model = tf.layers.dense(outputs, n_class, activation=None)\n",
        "\n",
        "      cost = tf.reduce_mean(\n",
        "                  tf.nn.sparse_softmax_cross_entropy_with_logits(\n",
        "                      logits=model, labels=targets))\n",
        "\n",
        "      optimizer = tf.train.AdamOptimizer(learning_rate).minimize(cost)\n",
        "\n",
        "\n",
        "      # Generate a batch data\n",
        "      input_batch, output_batch, target_batch = make_batch_new(seq_data, num_dic, model_movie)\n",
        "\n",
        "          #-------------------------------------------------------\n",
        "\n",
        "          "
      ],
      "execution_count": 0,
      "outputs": [
        {
          "output_type": "stream",
          "text": [
            "WARNING:tensorflow:From <ipython-input-20-ee4d226620ec>:26: BasicRNNCell.__init__ (from tensorflow.python.ops.rnn_cell_impl) is deprecated and will be removed in a future version.\n",
            "Instructions for updating:\n",
            "This class is equivalent as tf.keras.layers.SimpleRNNCell, and will be replaced by that in Tensorflow 2.0.\n",
            "WARNING:tensorflow:From <ipython-input-20-ee4d226620ec>:30: dynamic_rnn (from tensorflow.python.ops.rnn) is deprecated and will be removed in a future version.\n",
            "Instructions for updating:\n",
            "Please use `keras.layers.RNN(cell)`, which is equivalent to this API\n",
            "WARNING:tensorflow:From /usr/local/lib/python3.6/dist-packages/tensorflow/python/ops/tensor_array_ops.py:162: colocate_with (from tensorflow.python.framework.ops) is deprecated and will be removed in a future version.\n",
            "Instructions for updating:\n",
            "Colocations handled automatically by placer.\n",
            "WARNING:tensorflow:From /usr/local/lib/python3.6/dist-packages/tensorflow/python/ops/rnn_cell_impl.py:1259: calling dropout (from tensorflow.python.ops.nn_ops) with keep_prob is deprecated and will be removed in a future version.\n",
            "Instructions for updating:\n",
            "Please use `rate` instead of `keep_prob`. Rate should be set to `rate = 1 - keep_prob`.\n",
            "WARNING:tensorflow:From <ipython-input-20-ee4d226620ec>:43: dense (from tensorflow.python.layers.core) is deprecated and will be removed in a future version.\n",
            "Instructions for updating:\n",
            "Use keras.layers.dense instead.\n"
          ],
          "name": "stdout"
        }
      ]
    },
    {
      "cell_type": "markdown",
      "metadata": {
        "id": "6BaOiaGRLW7R",
        "colab_type": "text"
      },
      "source": [
        "### 2.2.3. Train and Save Seq2Seq Model\n",
        "##### We commented code here as we already train and save Seq2Seq model for all personality chat in google drive and using model downloading from there."
      ]
    },
    {
      "cell_type": "code",
      "metadata": {
        "id": "lVQnUSX1LZ6C",
        "colab_type": "code",
        "outputId": "83f52638-e8d5-4e5b-ad7f-644e0eb6e20c",
        "colab": {
          "base_uri": "https://localhost:8080/",
          "height": 54
        }
      },
      "source": [
        "'''\n",
        "# We do not need to run this block of code as we saved and uploaded the session to google drive will \n",
        "#used that saved session for our chatbot\n",
        "\n",
        "# Initialize the variables (i.e. assign their default value)\n",
        "init = tf.global_variables_initializer()\n",
        "\n",
        "saver = tf.train.Saver()\n",
        "\n",
        "with tf.Session() as sess:\n",
        "\n",
        "      sess.run(init)\n",
        "\n",
        "     \n",
        "      # Please comment your code\n",
        "      total_epoch = 5000\n",
        "\n",
        "      for epoch in range(total_epoch):\n",
        "          _, loss = sess.run([optimizer, cost],\n",
        "                             feed_dict={enc_input: input_batch,\n",
        "                                        dec_input: output_batch,\n",
        "                                        targets: target_batch})\n",
        "          if epoch % 100 == 0:\n",
        "              print('Epoch:', '%04d' % (epoch + 1),\n",
        "                    'cost =', '{:.6f}'.format(loss))\n",
        "\n",
        "      print('Epoch:', '%04d' % (epoch + 1),\n",
        "            'cost =', '{:.6f}'.format(loss))\n",
        "      print('Training completed')\n",
        "\n",
        "            # Save the model - This will generate three files: \n",
        "            # 1) model_final.cpkt.index, 2) model_final.cpkt.meta, 3) model_final.cpkt.data-#-of-# (model_final.cpkt.data-00000-of-00001)\n",
        "            #saver.save(sess, 'model_Seq2Seq_com.cpkt')\n",
        "      model_save_name = 'model_Seq2Seq_fr.cpkt'\n",
        "      path = F\"/content/gdrive/My Drive/Comp5046_Assignment1/Model/Fr/{model_save_name}\" \n",
        "      \n",
        "      \n",
        "      saver.save(sess, path)\n",
        "      \n",
        "'''\n"
      ],
      "execution_count": 0,
      "outputs": [
        {
          "output_type": "execute_result",
          "data": {
            "text/plain": [
              "'\\n# We do not need to run this block of code as we saved and uploaded the session to google drive will \\n#used that saved session for our chatbot\\n\\n# Initialize the variables (i.e. assign their default value)\\ninit = tf.global_variables_initializer()\\n\\nsaver = tf.train.Saver()\\n\\nwith tf.Session() as sess:\\n\\n      sess.run(init)\\n\\n     \\n      # Please comment your code\\n      total_epoch = 5000\\n\\n      for epoch in range(total_epoch):\\n          _, loss = sess.run([optimizer, cost],\\n                             feed_dict={enc_input: input_batch,\\n                                        dec_input: output_batch,\\n                                        targets: target_batch})\\n          if epoch % 100 == 0:\\n              print(\\'Epoch:\\', \\'%04d\\' % (epoch + 1),\\n                    \\'cost =\\', \\'{:.6f}\\'.format(loss))\\n\\n      print(\\'Epoch:\\', \\'%04d\\' % (epoch + 1),\\n            \\'cost =\\', \\'{:.6f}\\'.format(loss))\\n      print(\\'Training completed\\')\\n\\n            # Save the model - This will generate three files: \\n            # 1) model_final.cpkt.index, 2) model_final.cpkt.meta, 3) model_final.cpkt.data-#-of-# (model_final.cpkt.data-00000-of-00001)\\n            #saver.save(sess, \\'model_Seq2Seq_com.cpkt\\')\\n      model_save_name = \\'model_Seq2Seq_fr.cpkt\\'\\n      path = F\"/content/gdrive/My Drive/Comp5046_Assignment1/Model/Fr/{model_save_name}\" \\n      \\n      \\n      saver.save(sess, path)\\n      \\n'"
            ]
          },
          "metadata": {
            "tags": []
          },
          "execution_count": 21
        }
      ]
    },
    {
      "cell_type": "markdown",
      "metadata": {
        "id": "xH3VH6pM31Hv",
        "colab_type": "text"
      },
      "source": [
        "#### Show justfication of using number of epochs during training neural network for sequence to sequence model"
      ]
    },
    {
      "cell_type": "code",
      "metadata": {
        "id": "CYgRYXGM3mi8",
        "colab_type": "code",
        "outputId": "ca03642d-a4f6-40ca-9459-0d24dd3ca8d1",
        "colab": {
          "base_uri": "https://localhost:8080/",
          "height": 295
        }
      },
      "source": [
        "#During training we saved this data to data folder in google drive as txt file and \n",
        "#showing graph from that file data\n",
        "import pandas as pd\n",
        "import matplotlib.pyplot as plt\n",
        "\n",
        "Seq_Epochs = drive.CreateFile({'id':'1L3TQba_EcFrluJLqWvFJErKg8QuC6VLf'})\n",
        "Seq_Epochs.GetContentFile('Seq_Epochs.txt') \n",
        "\n",
        "\n",
        "df=pd.read_csv('Seq_Epochs.txt', sep=' ', header=None)\n",
        "df.head()\n",
        "\n",
        "plt.plot(df[1],df[4])\n",
        "plt.xlabel('Number of Epochs')\n",
        "plt.ylabel('Cost')\n",
        "plt.title('Cost vs Number of Epochs during training neural network')\n",
        "plt.show()"
      ],
      "execution_count": 0,
      "outputs": [
        {
          "output_type": "display_data",
          "data": {
            "image/png": "[encoded data removed]",
            "text/plain": [
              "<Figure size 432x288 with 1 Axes>"
            ]
          },
          "metadata": {
            "tags": []
          }
        }
      ]
    },
    {
      "cell_type": "markdown",
      "metadata": {
        "id": "-2feNpG-LZx2",
        "colab_type": "text"
      },
      "source": [
        "### 2.2.4. Save Seq2Seq Model"
      ]
    },
    {
      "cell_type": "code",
      "metadata": {
        "id": "sflUAgV4L1o8",
        "colab_type": "code",
        "colab": {}
      },
      "source": [
        "# We have saved and upload Seq2Seq model as Tensorflow  session in google drive in section 2.2.3"
      ],
      "execution_count": 0,
      "outputs": []
    },
    {
      "cell_type": "markdown",
      "metadata": {
        "id": "4zFo6YppL6w3",
        "colab_type": "text"
      },
      "source": [
        "### 2.2.5. Load Seq2Seq Model"
      ]
    },
    {
      "cell_type": "code",
      "metadata": {
        "id": "7uI6ODNTHHXZ",
        "colab_type": "code",
        "colab": {}
      },
      "source": [
        "# Load Seq2seq model from google drive using pyDrive using ListFile function\n",
        "# We downloaded all files related to a Seq2Seq model to colab temporary drive and use from there.\n",
        "#Here we used Google File Id of a folder where our Seq2Seq model files saved as we saved each personality model in different folder\n",
        "\n",
        "def load_Seq2Seq_model(personality_type):\n",
        "      \n",
        "      #Seq2seq model of professional chat\n",
        "      if personality_type==1:\n",
        "        file_list = drive.ListFile({'q': \"'1QiJWwtqmvepmxJBwtlJXYGa4HtbwuT2A' in parents and trashed=false\"}).GetList()\n",
        "        session_path='model_Seq2Seq_prof.cpkt'\n",
        "      \n",
        "      #Seq2seq model of comic chat\n",
        "      elif personality_type==2:\n",
        "        file_list = drive.ListFile({'q': \"'13ussiFGW1uqkbF22jwOHvwfGuqicH1f1' in parents and trashed=false\"}).GetList()\n",
        "        session_path='model_Seq2Seq_com.cpkt'\n",
        "      \n",
        "      #Seq2seq model of Friend chat\n",
        "      elif personality_type==3:\n",
        "          session_path='model_Seq2Seq_fr.cpkt'\n",
        "          file_list = drive.ListFile({'q': \"'1euc1V3nSvWc_Vr6zPe-sLSy9cjK75MGP' in parents and trashed=false\"}).GetList()\n",
        "\n",
        "      saver = tf.train.Saver()\n",
        "\n",
        "      init = tf.global_variables_initializer()\n",
        "      sess=tf.Session()\n",
        "\n",
        "      sess.run(init)\n",
        "\n",
        "      #Create file on colab Files folder all file of a specific folder\n",
        "      for file1 in file_list:\n",
        "              \n",
        "        seq_model_id = file1['id']\n",
        "        downloaded_seq_model = drive.CreateFile({'id':seq_model_id})\n",
        "        downloaded_seq_model.GetContentFile(file1['title'])\n",
        "      \n",
        "      #restore checkpoint\n",
        "      saver.restore(sess, session_path)\n",
        "      print(\"Model restored.\")\n",
        "        \n",
        "      return sess"
      ],
      "execution_count": 0,
      "outputs": []
    },
    {
      "cell_type": "code",
      "metadata": {
        "id": "k-s7EYTZ4_RK",
        "colab_type": "code",
        "outputId": "fd6ee4fd-0861-4f49-e13b-7d77a364e80f",
        "colab": {
          "base_uri": "https://localhost:8080/",
          "height": 124
        }
      },
      "source": [
        "import tensorflow as tf\n",
        "\n",
        "sess_load=load_Seq2Seq_model(1)\n"
      ],
      "execution_count": 0,
      "outputs": [
        {
          "output_type": "stream",
          "text": [
            "WARNING:tensorflow:From /usr/local/lib/python3.6/dist-packages/tensorflow/python/training/saver.py:1266: checkpoint_exists (from tensorflow.python.training.checkpoint_management) is deprecated and will be removed in a future version.\n",
            "Instructions for updating:\n",
            "Use standard file APIs to check for files with this prefix.\n",
            "INFO:tensorflow:Restoring parameters from model_Seq2Seq_prof.cpkt\n",
            "Model restored.\n"
          ],
          "name": "stdout"
        }
      ]
    },
    {
      "cell_type": "markdown",
      "metadata": {
        "id": "a4mpRpocePLN",
        "colab_type": "text"
      },
      "source": [
        "# 3 - Evaluation (Running chatbot)"
      ]
    },
    {
      "cell_type": "markdown",
      "metadata": {
        "id": "KEW1zMgVMREr",
        "colab_type": "text"
      },
      "source": [
        "## 3.1. Start chatting"
      ]
    },
    {
      "cell_type": "code",
      "metadata": {
        "id": "RQQfX3Fr3Ovi",
        "colab_type": "code",
        "colab": {}
      },
      "source": [
        "# 3.1----Functions for answer by chatbot and save chat log------\n",
        "\n",
        "\n",
        "# Answer the question using the trained model\n",
        "def answer(sess, sentence, chat_type=1):\n",
        "    \n",
        "    #load seq_data, num_dic and unique answers from google drive file\n",
        "    if chat_type==1:\n",
        "        seq_data, num_dic, unique_words,dic_len =load_pickle_data(chat_type)\n",
        "    elif chat_type==2:\n",
        "        seq_data, num_dic, unique_words,dic_len =load_pickle_data(chat_type)\n",
        "    elif chat_type==3:\n",
        "        seq_data, num_dic, unique_words,dic_len =load_pickle_data(chat_type)\n",
        "    else:\n",
        "        seq_data, num_dic, unique_words,dic_len =load_pickle_data(chat_type) \n",
        "    \n",
        "    #Make seq_data with question and initailly undefined answer.    \n",
        "    seq_data = [sentence, '_U_' * max_output_words_amount]\n",
        "    \n",
        "    #make batch using seq_data that will feed to NN\n",
        "    input_batch, output_batch, target_batch = make_batch_new([seq_data],num_dic, model_movie)\n",
        "    \n",
        "    prediction = tf.argmax(model, 2)\n",
        "\n",
        "    result = sess.run(prediction,\n",
        "                      feed_dict={enc_input: input_batch,\n",
        "                                 dec_input: output_batch,\n",
        "                                 targets: target_batch})\n",
        "\n",
        "    # convert index number to actual token \n",
        "    decoded = [unique_words[i] for i in result[0]]\n",
        "        \n",
        "    # Remove anything after '_E_'        \n",
        "    if \"_E_\" in decoded:\n",
        "        end = decoded.index('_E_')\n",
        "        translated = ' '.join(decoded[:end])\n",
        "    else :\n",
        "        translated = ' '.join(decoded[:])\n",
        "    \n",
        "    return translated\n",
        "  \n",
        "#write chat_log to google drive in under chat_log folder using pydrive\n",
        "def write_chat_log(g_drive,file_name, lst_chat):\n",
        "     \n",
        "    #create file using pydrive and use file_name as title\n",
        "    file_chat = g_drive.CreateFile({'title': file_name})\n",
        "    \n",
        "    #Create file under a folder provided by the google Id\n",
        "    file_folder = drive.CreateFile({\"parents\": [{\"kind\": \"drive#fileLink\", \"id\": '1eV0sIZQpEN3LYUAWiN0gXG1J1iid6_R8'}]})\n",
        "    \n",
        "    #open file_chat in write mode and write in it using content of lst_chat\n",
        "    with open(file_chat['title'], 'w') as myfile:\n",
        "     \n",
        "      for l in lst_chat:\n",
        "          user=np.asarray(l)\n",
        "          for i in range(len(user[1])):\n",
        "            \n",
        "            myfile.write(\"%s\\r\\n\" % user[0][i])\n",
        "            myfile.write(\"%s\\r\\n\" % user[1][i])\n",
        "        \n",
        "      myfile.close()\n",
        "      \n",
        "      file_folder.SetContentFile(myfile.name)\n",
        "      file_folder.Upload()\n",
        "      \n",
        "def read_chat_log(file_name):\n",
        "\n",
        "  with open(file_name,encoding='utf-8', errors='ignore') as f: \n",
        "      lines = f.readlines() \n",
        "\n",
        "  sents=[]\n",
        "  for line in lines:\n",
        "    print(line)\n",
        "    \n",
        "#Change chat_type(personality) according to user choice    \n",
        "def change_chat_type(personality_type):\n",
        "  \n",
        "      print('Please type \"xxx\" to exit')\n",
        " \n",
        "      sess_load=load_Seq2Seq_model(personality_type) #\n",
        "\n",
        "\n",
        "      #Start Chatbot conversation\n",
        "\n",
        "      global lst_conv\n",
        "      lst_conv=[]\n",
        "      #three lists to keep user ques and chatbot answer\n",
        "      lst_qa=[] \n",
        "      lst_q=[]\n",
        "      lst_a=[]\n",
        "\n",
        "      ques=input('User: ')\n",
        "      #Add user question to lst_q\n",
        "      lst_q.append('User: ' + ques)\n",
        "      ans=print('Chatbot: ' + answer(sess_load, ques,personality_type))\n",
        "      #Add chatbot anser to lst_a\n",
        "      lst_a.append('Chatbot: ' + answer(sess_load, ques,personality_type))\n",
        "      \n",
        "      #chat continue with chatbot until user type \"xxx\"\n",
        "      while ques.lower()!='xxx':\n",
        "        \n",
        "        #ask user input as question\n",
        "        ques=input('User: ')\n",
        "\n",
        "        lst_q.append('User: ' + ques)\n",
        "        if(ques.lower()!='xxx'):\n",
        "          #get answer from chatbot if ques is not \"xxx\"\n",
        "          ans=print('Chatbot: ' + answer(sess_load, ques,personality_type))\n",
        "\n",
        "          lst_a.append('Chatbot: ' + answer(sess_load, ques,personality_type))\n",
        "        else:\n",
        "          #exit from current chatmode if user type \"xxx\"\n",
        "          ans=print('Chatbot: ' + 'Thank you. Bye')\n",
        "          break;\n",
        "        ques=input('User: ')\n",
        "        if(ques.lower()=='xxx'):\n",
        "          ans=print('Chatbot: ' + 'Thank you. Bye')\n",
        "          break;\n",
        "        else:\n",
        "          ans=print('Chatbot: ' + answer(sess_load, ques,personality_type))\n",
        "          lst_q.append('User: ' + ques)\n",
        "          lst_a.append('Chatbot: ' + answer(sess_load, ques,personality_type))\n",
        "\n",
        "      lst_qa.append(lst_q)\n",
        "      lst_qa.append(lst_a)\n",
        "      #add list of question and answer to single list as a list of list\n",
        "      lst_conv.append(lst_qa)\n",
        "\n",
        "      #make chatlog file extension according to personality type\n",
        "      if personality_type==1:\n",
        "        file_ext='prof'\n",
        "      elif personality_type==2:\n",
        "        file_ext='com'\n",
        "      elif personality_type==3:\n",
        "        file_ext='fr'\n",
        "\n",
        "      #write to text file\n",
        "      #Take current time stamp and with file_name\n",
        "      time_stamp = datetime.datetime.now().timestamp()\n",
        "      str_time_stamp=str(int(time_stamp))\n",
        "    \n",
        "      #make unique file_name using timestapm()     \n",
        "      file_name='conversation_' + str(file_ext) + \"_\" + str_time_stamp + '.txt'\n",
        "      #write chat_log to file in google drive  using data in lst_conv \n",
        "      write_chat_log(drive, file_name, lst_conv)\n",
        "            \n",
        "      return ques\n"
      ],
      "execution_count": 0,
      "outputs": []
    },
    {
      "cell_type": "code",
      "metadata": {
        "id": "wWc-59vUf4eX",
        "colab_type": "code",
        "colab": {}
      },
      "source": [
        ""
      ],
      "execution_count": 0,
      "outputs": []
    },
    {
      "cell_type": "markdown",
      "metadata": {
        "id": "P28Z1k36MZuo",
        "colab_type": "text"
      },
      "source": [
        "## 3.2. Change Personality"
      ]
    },
    {
      "cell_type": "markdown",
      "metadata": {
        "id": "U8OBtJfvMgL_",
        "colab_type": "text"
      },
      "source": [
        "*Explain how to change personality (What is the command for changing personality?). *"
      ]
    },
    {
      "cell_type": "code",
      "metadata": {
        "id": "wTLyQEeZMZ2f",
        "colab_type": "code",
        "colab": {}
      },
      "source": [
        "# Change Personality, we comment this code as we call that in chat mode (3,5.2)\n",
        "\n",
        "#ret=change_chat_type(personality_type)\n",
        "\n"
      ],
      "execution_count": 0,
      "outputs": []
    },
    {
      "cell_type": "markdown",
      "metadata": {
        "id": "y50Ep8KKMZ99",
        "colab_type": "text"
      },
      "source": [
        "## 3.3. Save chat log"
      ]
    },
    {
      "cell_type": "code",
      "metadata": {
        "id": "bbZ6oOu6MaGJ",
        "colab_type": "code",
        "colab": {}
      },
      "source": [
        "# write chat log to text file in google drive. we comment here as we called this funtion\n",
        "# in side the function change_chat_type()\n",
        "\n",
        "#write_chat_log(g_drive, file_name, lst_conv)\n"
      ],
      "execution_count": 0,
      "outputs": []
    },
    {
      "cell_type": "markdown",
      "metadata": {
        "id": "JISqR3jjMwwU",
        "colab_type": "text"
      },
      "source": [
        "## 3.4. End chatting"
      ]
    },
    {
      "cell_type": "code",
      "metadata": {
        "id": "nT_DeoHSMw49",
        "colab_type": "code",
        "colab": {}
      },
      "source": [
        "# We used End chatting option and change personality option using the function below and last block of code\n",
        "\n",
        "#ret=change_chat_type(personality_type)\n"
      ],
      "execution_count": 0,
      "outputs": []
    },
    {
      "cell_type": "markdown",
      "metadata": {
        "id": "HpomO_3YNI5X",
        "colab_type": "text"
      },
      "source": [
        "## 3.5. Execute program"
      ]
    },
    {
      "cell_type": "markdown",
      "metadata": {
        "id": "cDkQJ9i_NH9D",
        "colab_type": "text"
      },
      "source": [
        "***Please make sure your program  is running properly.***\n",
        "\n",
        "***Functions for downloading (from Google Drive) and loading models (both word embeddings and Seq2Seq) need to be called!*** \n"
      ]
    },
    {
      "cell_type": "markdown",
      "metadata": {
        "id": "_7J5hS_SOIUU",
        "colab_type": "text"
      },
      "source": [
        "### 3.5.1. Execute program - training mode"
      ]
    },
    {
      "cell_type": "markdown",
      "metadata": {
        "id": "_woLwuU3Mk3w",
        "colab_type": "text"
      },
      "source": [
        "*Please include lines to train the bot.*"
      ]
    },
    {
      "cell_type": "code",
      "metadata": {
        "id": "xhWYz7NQOfLV",
        "colab_type": "code",
        "outputId": "79d4a441-f12e-414e-ccbd-923140e80a66",
        "colab": {
          "base_uri": "https://localhost:8080/",
          "height": 54
        }
      },
      "source": [
        "#We commented this code as we already train model and uploaded to google drive\n",
        "'''\n",
        "#1. Load sequence  data from pickled file in google drive\n",
        "seq_data, num_dic, unique_words,dic_len =load_pickle_data(1)\n",
        "#load Word2Vec model from google drive\n",
        "model_movie=load_Word2Vec_model()\n",
        "#2.2.2\n",
        "#2.2.3\n",
        "\n",
        "'''\n"
      ],
      "execution_count": 0,
      "outputs": [
        {
          "output_type": "execute_result",
          "data": {
            "text/plain": [
              "'\\n#1. Load sequence  data from pickled file in google drive\\nseq_data, num_dic, unique_words,dic_len =load_pickle_data(1)\\n#load Word2Vec model from google drive\\nmodel_movie=load_Word2Vec_model()\\n#2.2.2\\n#2.2.3\\n\\n'"
            ]
          },
          "metadata": {
            "tags": []
          },
          "execution_count": 27
        }
      ]
    },
    {
      "cell_type": "markdown",
      "metadata": {
        "id": "65cZTuQ_OeI7",
        "colab_type": "text"
      },
      "source": [
        "### 3.5.2. Execute program - chatting mode"
      ]
    },
    {
      "cell_type": "markdown",
      "metadata": {
        "id": "D7LrbcP_PKap",
        "colab_type": "text"
      },
      "source": [
        "*Please include lines to start chatting with the bot.*"
      ]
    },
    {
      "cell_type": "code",
      "metadata": {
        "id": "QVvzZsB7PbYf",
        "colab_type": "code",
        "colab": {}
      },
      "source": [
        "\n",
        "#1. Load sequence data and dictionary of answers  data from pickled file in google drive\n",
        "seq_data, num_dic, unique_words,dic_len =load_pickle_data(1)\n",
        "#load Word2Vec model from google drive\n",
        "model_movie=load_Word2Vec_model()\n"
      ],
      "execution_count": 0,
      "outputs": []
    },
    {
      "cell_type": "code",
      "metadata": {
        "id": "xNkGTFyQzOx2",
        "colab_type": "code",
        "colab": {}
      },
      "source": [
        "  \n",
        "  import tensorflow as tf\n",
        "  ### Setting Hyperparameters\n",
        "\n",
        "  ### Neural Network Model\n",
        "  tf.reset_default_graph()\n",
        "\n",
        "  learning_rate = 0.002\n",
        "  n_hidden = 128\n",
        "\n",
        "  n_class = dic_len\n",
        "  n_input = dic_len\n",
        "\n",
        "  ### Neural Network Model\n",
        "  \n",
        "  # encoder/decoder shape = [batch size, time steps, input size]\n",
        "  enc_input = tf.placeholder(tf.float32, [None, None, n_input])\n",
        "  dec_input = tf.placeholder(tf.float32, [None, None, n_input])\n",
        "\n",
        "  # target shape = [batch size, time steps]\n",
        "  targets = tf.placeholder(tf.int64, [None, None])\n",
        "\n",
        "\n",
        "  # Encoder Cell\n",
        "  with tf.variable_scope('encode'):\n",
        "      enc_cell = tf.nn.rnn_cell.BasicRNNCell(n_hidden)\n",
        "      enc_cell = tf.nn.rnn_cell.DropoutWrapper(enc_cell, output_keep_prob=0.5)\n",
        "\n",
        "      outputs, enc_states = tf.nn.dynamic_rnn(enc_cell, enc_input,\n",
        "                                              dtype=tf.float32)\n",
        "  # Decoder Cell\n",
        "  with tf.variable_scope('decode'):\n",
        "      dec_cell = tf.nn.rnn_cell.BasicRNNCell(n_hidden)\n",
        "      dec_cell = tf.nn.rnn_cell.DropoutWrapper(dec_cell, output_keep_prob=0.5)\n",
        "\n",
        "      # [IMPORTANT] Setting enc_states as inital_state of decoder cell\n",
        "      outputs, dec_states = tf.nn.dynamic_rnn(dec_cell, dec_input,\n",
        "                                              initial_state=enc_states,\n",
        "                                           dtype=tf.float32)\n",
        "\n",
        "\n",
        "\n",
        "      model = tf.layers.dense(outputs, n_class, activation=None)\n",
        "\n",
        "      cost = tf.reduce_mean(\n",
        "                  tf.nn.sparse_softmax_cross_entropy_with_logits(\n",
        "                      logits=model, labels=targets))\n",
        "\n",
        "      optimizer = tf.train.AdamOptimizer(learning_rate).minimize(cost)\n",
        "\n",
        "\n",
        "      # Generate a batch data\n",
        "      input_batch, output_batch, target_batch = make_batch_new(seq_data, num_dic, model_movie)\n",
        "\n",
        "      \n",
        "     "
      ],
      "execution_count": 0,
      "outputs": []
    },
    {
      "cell_type": "code",
      "metadata": {
        "id": "6OMKXLJwzqLc",
        "colab_type": "code",
        "outputId": "3e693f36-4ceb-4620-c211-2d7576aa035c",
        "colab": {
          "base_uri": "https://localhost:8080/",
          "height": 52
        }
      },
      "source": [
        "#-----------Load Sequence to Sequence model from Google Drive--------------\n",
        "\n",
        "sess_load=load_Seq2Seq_model(1)"
      ],
      "execution_count": 0,
      "outputs": [
        {
          "output_type": "stream",
          "text": [
            "INFO:tensorflow:Restoring parameters from model_Seq2Seq_prof.cpkt\n",
            "Model restored.\n"
          ],
          "name": "stdout"
        }
      ]
    },
    {
      "cell_type": "code",
      "metadata": {
        "id": "AIctVXxKzkcr",
        "colab_type": "code",
        "outputId": "1a267c7d-b1f2-4828-d945-1d228883da92",
        "colab": {
          "base_uri": "https://localhost:8080/",
          "height": 1506
        }
      },
      "source": [
        "# choose and Change personality chat using that personality\n",
        "\n",
        "correct_selection=False\n",
        "\n",
        "while(correct_selection== False):\n",
        "  \n",
        "    personality_type=input('1:Professional, 2:Comic,3:Friend,0:Exit:')\n",
        "    \n",
        "    \n",
        "    if personality_type.isdigit():\n",
        "\n",
        "          personality_type=int(personality_type)\n",
        "\n",
        "          if (personality_type==1 or  personality_type==2 or  personality_type==3):\n",
        "\n",
        "            \n",
        "            ret = change_chat_type(personality_type)\n",
        "\n",
        "            if ret.lower()=='xxx':\n",
        "                  print('Exit from current personality mode chatting and come to main menu.')\n",
        "                                 \n",
        "                  correct_selection=False\n",
        "\n",
        "          elif personality_type==0:\n",
        "              print('Exit from Chatbot completely. Thank you for using Chatbot.')\n",
        "              correct_selection=True\n",
        "    else:\n",
        "      \n",
        "      personality_type=input('1:Professional, 2:Comic,3:Friend,0:Exit:')"
      ],
      "execution_count": 0,
      "outputs": [
        {
          "output_type": "stream",
          "text": [
            "1:Professional, 2:Comic,3:Friend,0:Exit:1\n",
            "Please type \"xxx\" to exit\n",
            "INFO:tensorflow:Restoring parameters from model_Seq2Seq_prof.cpkt\n",
            "Model restored.\n",
            "User: Hello\n",
            "Chatbot: Hello.\n",
            "User: what is your age?\n",
            "Chatbot: Age doesn't really apply to me.\n",
            "User: can you sleep?\n",
            "Chatbot: I don't have a body.\n",
            "User: do you like me?\n",
            "Chatbot: I do like you.\n",
            "User: do you hate me?\n",
            "Chatbot: I don't have any negative feelings toward you.\n",
            "User: do you like Siri?\n",
            "Chatbot: We're all here to help.\n",
            "User: Are you real?\n",
            "Chatbot: I'm digital. In other words, I'm not human.\n",
            "User: Can you sing?\n",
            "Chatbot: I'm afraid I'm not musically inclined.\n",
            "User: Do you get hungry?\n",
            "Chatbot: I don't need to eat.\n",
            "User: Ask me something\n",
            "Chatbot: I'm better at answering questions.\n",
            "User: hahaha\n",
            "Chatbot: Glad you're pleased!\n",
            "User: I am so lonely\n",
            "Chatbot: I'm so sorry to hear that.\n",
            "User: Can you make me a sandwich?\n",
            "Chatbot: That's not something I can do.\n",
            "User: thank you\n",
            "Chatbot: You're welcome.\n",
            "User: xxx\n",
            "Chatbot: Thank you. Bye\n",
            "Exit from current personality mode chatting and come to main menu.\n",
            "1:Professional, 2:Comic,3:Friend,0:Exit:2\n",
            "Please type \"xxx\" to exit\n",
            "INFO:tensorflow:Restoring parameters from model_Seq2Seq_com.cpkt\n",
            "Model restored.\n",
            "User: Hello\n",
            "Chatbot: Hey.\n",
            "User: What is your age?\n",
            "Chatbot: I'm age-free.\n",
            "User: you are stupid\n",
            "Chatbot: Moving on.\n",
            "User: I feel sad\n",
            "Chatbot: Sorry to hear that. Here's a virtual high five if that will help.\n",
            "User: Be my friend?\n",
            "Chatbot: Sure! We should get matching sweaters.\n",
            "User: I am angry\n",
            "Chatbot: That's a bummer.\n",
            "User: Will you marry me?\n",
            "Chatbot: Sure. Take me to city hall. See what happens.\n",
            "User: Works for me\n",
            "Chatbot: Okay.\n",
            "User: xxx\n",
            "Chatbot: Thank you. Bye\n",
            "Exit from current personality mode chatting and come to main menu.\n",
            "1:Professional, 2:Comic,3:Friend,0:Exit:3\n",
            "Please type \"xxx\" to exit\n",
            "INFO:tensorflow:Restoring parameters from model_Seq2Seq_fr.cpkt\n",
            "Model restored.\n",
            "User: Hello\n",
            "Chatbot: Hi!\n",
            "User: Do you have a name?\n",
            "Chatbot: Oh, I don't have a name.\n",
            "User: Who's your master?\n",
            "Chatbot: I'm here for you!\n",
            "User: Can you talk to me\n",
            "Chatbot: Chat away!\n",
            "User: Tell me a joke\n",
            "Chatbot: Why do seagulls fly over the sea? Because if they flew over the bay, they'd be bagels.\n",
            "User: Say something funny\n",
            "Chatbot: It's hard to be funny on command, but if we keep chatting I'm sure I'll do it by accident.\n",
            "User: Can you sing?\n",
            "Chatbot: La la la, tra la la. I'm awesome at this.\n",
            "User: Who's your favorite team?\n",
            "Chatbot: I have many likes.\n",
            "User: thank you\n",
            "Chatbot: You're very welcome.\n",
            "User: xxx\n",
            "Chatbot: Thank you. Bye\n",
            "Exit from current personality mode chatting and come to main menu.\n",
            "1:Professional, 2:Comic,3:Friend,0:Exit:0\n",
            "Exit from Chatbot completely. Thank you for using Chatbot.\n"
          ],
          "name": "stdout"
        }
      ]
    },
    {
      "cell_type": "markdown",
      "metadata": {
        "id": "sfv8rWTKPzeb",
        "colab_type": "text"
      },
      "source": [
        "## Object Oriented Programming codes here"
      ]
    },
    {
      "cell_type": "markdown",
      "metadata": {
        "id": "ckObcJhKUlL_",
        "colab_type": "text"
      },
      "source": [
        ""
      ]
    },
    {
      "cell_type": "markdown",
      "metadata": {
        "id": "TS23AjBRSZaX",
        "colab_type": "text"
      },
      "source": [
        "*If you have multiple classes use multiple code snippets to add them.*"
      ]
    },
    {
      "cell_type": "code",
      "metadata": {
        "id": "wSJJ4zRFQy1h",
        "colab_type": "code",
        "colab": {}
      },
      "source": [
        "# We did not write OO programming code."
      ],
      "execution_count": 0,
      "outputs": []
    }
  ]
}